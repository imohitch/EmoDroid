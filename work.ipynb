{
 "cells": [
  {
   "cell_type": "markdown",
   "metadata": {},
   "source": [
    "## Preprocessing"
   ]
  },
  {
   "cell_type": "code",
   "execution_count": null,
   "metadata": {},
   "outputs": [],
   "source": [
    "from sklearn.model_selection import train_test_split\n",
    "import pandas as pd\n",
    "import numpy as np\n",
    "\n",
    "def reconstruct(pix_str, size=(48,48)):\n",
    "    pix_arr = np.array(map(int, pix_str.split()))\n",
    "    return pix_arr.reshape(size)\n",
    "\n",
    "def save_data(X_train, X_test, y_train, y_test, fname='', folder='data/'):\n",
    "    np.save(folder + 'X_train' + fname, X_train)\n",
    "    np.save(folder + 'y_train' + fname, y_train)\n",
    "    np.save(folder + 'X_test' + fname, X_test)\n",
    "    np.save(folder + 'y_test' + fname, y_test)\n",
    "\n",
    "def preprocess_data(filepath='data/fer2013.csv', split_ratio=0.1):\n",
    "    \n",
    "    print 'Reading csv into pandas dataframe'\n",
    "    df = pd.read_csv(filepath)\n",
    "    \n",
    "    print 'Dropping Usage column'\n",
    "    _Y = df.emotion.replace(0,1)\n",
    "    _X = df.pixels\n",
    "    frames = [_X, _Y]\n",
    "    XY = pd.concat(frames, axis=1)\n",
    "    \n",
    "    print ' Unique values',_Y.unique()\n",
    "\n",
    "    print 'Randomly shuffling the data'\n",
    "    XY = XY.reindex(np.random.permutation(XY.index))\n",
    "    \n",
    "    print 'Reshaping 1x(48*48) array into a 48X48 2D matrix'\n",
    "    XY['pixels'] = XY.pixels.apply(lambda x: reconstruct(x))\n",
    "\n",
    "    print 'Converting Dataframe into numpy array'\n",
    "    X = np.array([mat for mat in XY.pixels])\n",
    "    X = X.reshape(-1, 1, X.shape[1], X.shape[2])\n",
    "    Y = np.array([mat for mat in XY.emotion])\n",
    "\n",
    "    print 'Generating train test splits'\n",
    "    X_train, X_test, y_train, y_test = train_test_split(X, Y, test_size=split_ratio)\n",
    "\n",
    "    print 'Saving the files'\n",
    "    save_data(X_train, X_test, y_train, y_test, fname='', folder='data/')\n",
    "\n",
    "print 'Preprocessing begins'\n",
    "preprocess_data(filepath='data/fer2013.csv', split_ratio=0.1)\n",
    "print 'Done!'"
   ]
  },
  {
   "cell_type": "markdown",
   "metadata": {},
   "source": [
    "## Deep Learning"
   ]
  },
  {
   "cell_type": "code",
   "execution_count": null,
   "metadata": {},
   "outputs": [],
   "source": [
    "from keras.preprocessing.image import ImageDataGenerator\n",
    "from keras.models import Sequential\n",
    "from keras.layers import Convolution2D, MaxPooling2D\n",
    "from keras.layers import Activation, Dropout, Flatten, Dense\n",
    "from keras.optimizers import SGD, RMSprop\n",
    "from keras.utils.np_utils import to_categorical\n",
    "\n",
    "import numpy as np\n",
    "import sys"
   ]
  },
  {
   "cell_type": "code",
   "execution_count": null,
   "metadata": {},
   "outputs": [],
   "source": [
    "# import dataset:\n",
    "X_fname = 'data/X_train.npy'\n",
    "y_fname = 'data/y_train.npy'\n",
    "X_train = np.load(X_fname)\n",
    "y_train = np.load(y_fname)\n",
    "X_train = X_train.astype('float32')\n",
    "y_train = np.delete(to_categorical(y_train), 0, 1)"
   ]
  },
  {
   "cell_type": "code",
   "execution_count": null,
   "metadata": {},
   "outputs": [],
   "source": [
    "# params:\n",
    "batch_size = 128\n",
    "nb_epoch = 2   # originally trained for 100 epochs\n",
    "\n",
    "# setup info:\n",
    "print '\\n------------------------ Training Parameters -------------------------'\n",
    "print '                     X_train shape: ', X_train.shape # (n_sample, 1, 48, 48)\n",
    "print '                     y_train shape: ', y_train.shape # (n_sample, n_categories)\n",
    "print '                          img size: ', X_train.shape[2],'x', X_train.shape[3]\n",
    "print '                        batch size: ', batch_size\n",
    "print '                          nb_epoch: ', nb_epoch"
   ]
  },
  {
   "cell_type": "code",
   "execution_count": null,
   "metadata": {
    "scrolled": true
   },
   "outputs": [],
   "source": [
    "# model architecture:\n",
    "model = Sequential()\n",
    "model.add(Convolution2D(32, 3, 3, border_mode='same', activation='relu',\n",
    "                        input_shape=(1, X_train.shape[2], X_train.shape[3])))\n",
    "model.add(Convolution2D(32, 3, 3, border_mode='same', activation='relu'))\n",
    "model.add(Convolution2D(32, 3, 3, border_mode='same', activation='relu'))\n",
    "model.add(MaxPooling2D(pool_size=(2, 2), dim_ordering=\"th\"))\n",
    "\n",
    "model.add(Convolution2D(64, 3, 3, border_mode='same', activation='relu'))\n",
    "model.add(Convolution2D(64, 3, 3, border_mode='same', activation='relu'))\n",
    "model.add(Convolution2D(64, 3, 3, border_mode='same', activation='relu'))\n",
    "model.add(MaxPooling2D(pool_size=(2, 2), dim_ordering=\"th\"))\n",
    "\n",
    "model.add(Convolution2D(128, 3, 3, border_mode='same', activation='relu'))\n",
    "model.add(Convolution2D(128, 3, 3, border_mode='same', activation='relu'))\n",
    "model.add(Convolution2D(128, 3, 3, border_mode='same', activation='relu'))\n",
    "model.add(MaxPooling2D(pool_size=(2, 2), dim_ordering=\"th\"))\n",
    "\n",
    "model.add(Flatten())  # this converts our 3D feature maps to 1D feature vectors\n",
    "model.add(Dense(64, activation='relu'))\n",
    "model.add(Dense(64, activation='relu'))\n",
    "model.add(Dense(6, activation='softmax'))"
   ]
  },
  {
   "cell_type": "code",
   "execution_count": null,
   "metadata": {},
   "outputs": [],
   "source": [
    "# optimizer:\n",
    "model.compile(loss='categorical_crossentropy', optimizer='adam', metrics=['accuracy'])\n"
   ]
  },
  {
   "cell_type": "code",
   "execution_count": null,
   "metadata": {},
   "outputs": [],
   "source": [
    "print 'Training....'\n",
    "model.fit(X_train, y_train, nb_epoch=nb_epoch, batch_size=batch_size,\n",
    "          validation_split=0.1, shuffle=True, verbose=1)"
   ]
  },
  {
   "cell_type": "code",
   "execution_count": null,
   "metadata": {},
   "outputs": [],
   "source": [
    "# model result:\n",
    "loss_and_metrics = model.evaluate(X_train, y_train, batch_size=batch_size, verbose=1)\n",
    "print 'Done!'\n",
    "print 'Loss: ', loss_and_metrics[0]\n",
    "print ' Acc: ', loss_and_metrics[1]"
   ]
  },
  {
   "cell_type": "code",
   "execution_count": null,
   "metadata": {},
   "outputs": [],
   "source": [
    "model.save('saved_model/saved_model.h5')"
   ]
  },
  {
   "cell_type": "code",
   "execution_count": null,
   "metadata": {},
   "outputs": [],
   "source": []
  },
  {
   "cell_type": "code",
   "execution_count": null,
   "metadata": {},
   "outputs": [],
   "source": [
    "from keras.models import load_model\n",
    "model2 = load_model('saved_model/saved_model.h5')"
   ]
  },
  {
   "cell_type": "code",
   "execution_count": null,
   "metadata": {},
   "outputs": [],
   "source": []
  },
  {
   "cell_type": "code",
   "execution_count": null,
   "metadata": {},
   "outputs": [],
   "source": [
    "# model result:\n",
    "loss_and_metrics = model2.evaluate(X_train, y_train, batch_size=batch_size, verbose=1)\n",
    "print 'Done!'\n",
    "print 'Loss: ', loss_and_metrics[0]\n",
    "print ' Acc: ', loss_and_metrics[1]"
   ]
  },
  {
   "cell_type": "code",
   "execution_count": null,
   "metadata": {},
   "outputs": [],
   "source": []
  },
  {
   "cell_type": "code",
   "execution_count": null,
   "metadata": {},
   "outputs": [],
   "source": []
  },
  {
   "cell_type": "code",
   "execution_count": null,
   "metadata": {},
   "outputs": [],
   "source": []
  },
  {
   "cell_type": "code",
   "execution_count": null,
   "metadata": {},
   "outputs": [],
   "source": []
  },
  {
   "cell_type": "code",
   "execution_count": null,
   "metadata": {},
   "outputs": [],
   "source": []
  }
 ],
 "metadata": {
  "kernelspec": {
   "display_name": "Python 2",
   "language": "python",
   "name": "python2"
  },
  "language_info": {
   "codemirror_mode": {
    "name": "ipython",
    "version": 2
   },
   "file_extension": ".py",
   "mimetype": "text/x-python",
   "name": "python",
   "nbconvert_exporter": "python",
   "pygments_lexer": "ipython2",
   "version": "2.7.14"
  }
 },
 "nbformat": 4,
 "nbformat_minor": 2
}
