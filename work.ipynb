{
 "cells": [
  {
   "cell_type": "markdown",
   "metadata": {},
   "source": [
    "## Preprocessing"
   ]
  },
  {
   "cell_type": "code",
   "execution_count": 1,
   "metadata": {},
   "outputs": [
    {
     "name": "stdout",
     "output_type": "stream",
     "text": [
      "Preprocessing begins\n",
      "Done!\n"
     ]
    }
   ],
   "source": [
    "from sklearn.model_selection import train_test_split\n",
    "import pandas as pd\n",
    "import numpy as np\n",
    "\n",
    "def reconstruct(pix_str, size=(48,48)):\n",
    "    pix_arr = np.array(map(int, pix_str.split()))\n",
    "    return pix_arr.reshape(size)\n",
    "\n",
    "def save_data(X_train, X_test, y_train, y_test, fname='', folder='data/'):\n",
    "    np.save(folder + 'X_train' + fname, X_train)\n",
    "    np.save(folder + 'y_train' + fname, y_train)\n",
    "    np.save(folder + 'X_test' + fname, X_test)\n",
    "    np.save(folder + 'y_test' + fname, y_test)\n",
    "\n",
    "def preprocess_data(filepath='data/fer2013.csv', split_ratio=0.1):\n",
    "    \n",
    "    print 'Reading csv into pandas dataframe'\n",
    "    df = pd.read_csv(filepath)\n",
    "    \n",
    "    print 'Dropping Usage column'\n",
    "    _Y = df.emotion.replace(0,1)\n",
    "    _X = df.pixels\n",
    "    frames = [_X, _Y]\n",
    "    XY = pd.concat(frames, axis=1)\n",
    "    \n",
    "    print ' Uniqur values',_Y.unique()\n",
    "\n",
    "    print 'Randomly shuffling the data'\n",
    "    XY = XY.reindex(np.random.permutation(XY.index))\n",
    "    \n",
    "    print 'Reshaping 1x(48*48) array into a 48X48 2D matrix'\n",
    "    XY['pixels'] = XY.pixels.apply(lambda x: reconstruct(x))\n",
    "\n",
    "    print 'Converting Dataframe into numpy array'\n",
    "    X = np.array([mat for mat in XY.pixels])\n",
    "    X = X.reshape(-1, 1, X.shape[1], X.shape[2])\n",
    "    Y = np.array([mat for mat in XY.emotion])\n",
    "\n",
    "    print 'Generating train test splits'\n",
    "    X_train, X_test, y_train, y_test = train_test_split(X, Y, test_size=split_ratio)\n",
    "\n",
    "    print 'Saving the files'\n",
    "    save_data(X_train, X_test, y_train, y_test, fname='', folder='data/')\n",
    "\n",
    "print 'Preprocessing begins'\n",
    "# preprocess_data(filepath='data/fer2013.csv', split_ratio=0.1)\n",
    "print 'Done!'"
   ]
  },
  {
   "cell_type": "markdown",
   "metadata": {},
   "source": [
    "## Deep Learning"
   ]
  },
  {
   "cell_type": "code",
   "execution_count": 2,
   "metadata": {},
   "outputs": [
    {
     "name": "stderr",
     "output_type": "stream",
     "text": [
      "/home/dev/anaconda2/envs/p27/lib/python2.7/site-packages/h5py/__init__.py:36: FutureWarning: Conversion of the second argument of issubdtype from `float` to `np.floating` is deprecated. In future, it will be treated as `np.float64 == np.dtype(float).type`.\n",
      "  from ._conv import register_converters as _register_converters\n",
      "Using TensorFlow backend.\n"
     ]
    }
   ],
   "source": [
    "from keras.preprocessing.image import ImageDataGenerator\n",
    "from keras.models import Sequential\n",
    "from keras.layers import Convolution2D, MaxPooling2D\n",
    "from keras.layers import Activation, Dropout, Flatten, Dense\n",
    "from keras.optimizers import SGD, RMSprop\n",
    "from keras.utils.np_utils import to_categorical\n",
    "\n",
    "import numpy as np\n",
    "import sys"
   ]
  },
  {
   "cell_type": "code",
   "execution_count": 3,
   "metadata": {},
   "outputs": [],
   "source": [
    "# import dataset:\n",
    "X_fname = 'data/X_train.npy'\n",
    "y_fname = 'data/y_train.npy'\n",
    "X_train = np.load(X_fname)\n",
    "y_train = np.load(y_fname)\n",
    "X_train = X_train.astype('float32')\n",
    "y_train = np.delete(to_categorical(y_train), 0, 1)"
   ]
  },
  {
   "cell_type": "code",
   "execution_count": 4,
   "metadata": {},
   "outputs": [
    {
     "name": "stdout",
     "output_type": "stream",
     "text": [
      "\n",
      "------------------------ Training Parameters -------------------------\n",
      "                     X_train shape:  (32298, 1, 48, 48)\n",
      "                     y_train shape:  (32298, 6)\n",
      "                          img size:  48 x 48\n",
      "                        batch size:  128\n",
      "                          nb_epoch:  100\n"
     ]
    }
   ],
   "source": [
    "# params:\n",
    "batch_size = 128\n",
    "nb_epoch = 100\n",
    "\n",
    "# setup info:\n",
    "print '\\n------------------------ Training Parameters -------------------------'\n",
    "print '                     X_train shape: ', X_train.shape # (n_sample, 1, 48, 48)\n",
    "print '                     y_train shape: ', y_train.shape # (n_sample, n_categories)\n",
    "print '                          img size: ', X_train.shape[2],'x', X_train.shape[3]\n",
    "print '                        batch size: ', batch_size\n",
    "print '                          nb_epoch: ', nb_epoch"
   ]
  },
  {
   "cell_type": "code",
   "execution_count": 5,
   "metadata": {
    "scrolled": true
   },
   "outputs": [
    {
     "name": "stderr",
     "output_type": "stream",
     "text": [
      "/home/dev/anaconda2/envs/p27/lib/python2.7/site-packages/ipykernel_launcher.py:4: UserWarning: Update your `Conv2D` call to the Keras 2 API: `Conv2D(32, (3, 3), padding=\"same\", activation=\"relu\", input_shape=(1, 48, 48...)`\n",
      "  after removing the cwd from sys.path.\n",
      "/home/dev/anaconda2/envs/p27/lib/python2.7/site-packages/ipykernel_launcher.py:5: UserWarning: Update your `Conv2D` call to the Keras 2 API: `Conv2D(32, (3, 3), padding=\"same\", activation=\"relu\")`\n",
      "  \"\"\"\n",
      "/home/dev/anaconda2/envs/p27/lib/python2.7/site-packages/ipykernel_launcher.py:6: UserWarning: Update your `Conv2D` call to the Keras 2 API: `Conv2D(32, (3, 3), padding=\"same\", activation=\"relu\")`\n",
      "  \n",
      "/home/dev/anaconda2/envs/p27/lib/python2.7/site-packages/ipykernel_launcher.py:7: UserWarning: Update your `MaxPooling2D` call to the Keras 2 API: `MaxPooling2D(data_format=\"channels_first\", pool_size=(2, 2))`\n",
      "  import sys\n",
      "/home/dev/anaconda2/envs/p27/lib/python2.7/site-packages/ipykernel_launcher.py:9: UserWarning: Update your `Conv2D` call to the Keras 2 API: `Conv2D(64, (3, 3), padding=\"same\", activation=\"relu\")`\n",
      "  if __name__ == '__main__':\n",
      "/home/dev/anaconda2/envs/p27/lib/python2.7/site-packages/ipykernel_launcher.py:10: UserWarning: Update your `Conv2D` call to the Keras 2 API: `Conv2D(64, (3, 3), padding=\"same\", activation=\"relu\")`\n",
      "  # Remove the CWD from sys.path while we load stuff.\n",
      "/home/dev/anaconda2/envs/p27/lib/python2.7/site-packages/ipykernel_launcher.py:11: UserWarning: Update your `Conv2D` call to the Keras 2 API: `Conv2D(64, (3, 3), padding=\"same\", activation=\"relu\")`\n",
      "  # This is added back by InteractiveShellApp.init_path()\n",
      "/home/dev/anaconda2/envs/p27/lib/python2.7/site-packages/ipykernel_launcher.py:12: UserWarning: Update your `MaxPooling2D` call to the Keras 2 API: `MaxPooling2D(data_format=\"channels_first\", pool_size=(2, 2))`\n",
      "  if sys.path[0] == '':\n",
      "/home/dev/anaconda2/envs/p27/lib/python2.7/site-packages/ipykernel_launcher.py:14: UserWarning: Update your `Conv2D` call to the Keras 2 API: `Conv2D(128, (3, 3), padding=\"same\", activation=\"relu\")`\n",
      "  \n",
      "/home/dev/anaconda2/envs/p27/lib/python2.7/site-packages/ipykernel_launcher.py:15: UserWarning: Update your `Conv2D` call to the Keras 2 API: `Conv2D(128, (3, 3), padding=\"same\", activation=\"relu\")`\n",
      "  from ipykernel import kernelapp as app\n",
      "/home/dev/anaconda2/envs/p27/lib/python2.7/site-packages/ipykernel_launcher.py:16: UserWarning: Update your `Conv2D` call to the Keras 2 API: `Conv2D(128, (3, 3), padding=\"same\", activation=\"relu\")`\n",
      "  app.launch_new_instance()\n",
      "/home/dev/anaconda2/envs/p27/lib/python2.7/site-packages/ipykernel_launcher.py:17: UserWarning: Update your `MaxPooling2D` call to the Keras 2 API: `MaxPooling2D(data_format=\"channels_first\", pool_size=(2, 2))`\n"
     ]
    }
   ],
   "source": [
    "# model architecture:\n",
    "model = Sequential()\n",
    "model.add(Convolution2D(32, 3, 3, border_mode='same', activation='relu',\n",
    "                        input_shape=(1, X_train.shape[2], X_train.shape[3])))\n",
    "model.add(Convolution2D(32, 3, 3, border_mode='same', activation='relu'))\n",
    "model.add(Convolution2D(32, 3, 3, border_mode='same', activation='relu'))\n",
    "model.add(MaxPooling2D(pool_size=(2, 2), dim_ordering=\"th\"))\n",
    "\n",
    "model.add(Convolution2D(64, 3, 3, border_mode='same', activation='relu'))\n",
    "model.add(Convolution2D(64, 3, 3, border_mode='same', activation='relu'))\n",
    "model.add(Convolution2D(64, 3, 3, border_mode='same', activation='relu'))\n",
    "model.add(MaxPooling2D(pool_size=(2, 2), dim_ordering=\"th\"))\n",
    "\n",
    "model.add(Convolution2D(128, 3, 3, border_mode='same', activation='relu'))\n",
    "model.add(Convolution2D(128, 3, 3, border_mode='same', activation='relu'))\n",
    "model.add(Convolution2D(128, 3, 3, border_mode='same', activation='relu'))\n",
    "model.add(MaxPooling2D(pool_size=(2, 2), dim_ordering=\"th\"))\n",
    "\n",
    "model.add(Flatten())  # this converts our 3D feature maps to 1D feature vectors\n",
    "model.add(Dense(64, activation='relu'))\n",
    "model.add(Dense(64, activation='relu'))\n",
    "model.add(Dense(6, activation='softmax'))"
   ]
  },
  {
   "cell_type": "code",
   "execution_count": 6,
   "metadata": {},
   "outputs": [],
   "source": [
    "# optimizer:\n",
    "model.compile(loss='categorical_crossentropy', optimizer='adam', metrics=['accuracy'])\n"
   ]
  },
  {
   "cell_type": "code",
   "execution_count": 7,
   "metadata": {},
   "outputs": [
    {
     "name": "stdout",
     "output_type": "stream",
     "text": [
      "Training....\n"
     ]
    },
    {
     "name": "stderr",
     "output_type": "stream",
     "text": [
      "/home/dev/anaconda2/envs/p27/lib/python2.7/site-packages/keras/models.py:944: UserWarning: The `nb_epoch` argument in `fit` has been renamed `epochs`.\n",
      "  warnings.warn('The `nb_epoch` argument in `fit` '\n"
     ]
    },
    {
     "name": "stdout",
     "output_type": "stream",
     "text": [
      "Train on 29068 samples, validate on 3230 samples\n",
      "Epoch 1/100\n",
      "29068/29068 [==============================] - 17s 580us/step - loss: 1.7192 - acc: 0.2746 - val_loss: 1.6501 - val_acc: 0.3241\n",
      "Epoch 2/100\n",
      "29068/29068 [==============================] - 15s 528us/step - loss: 1.6146 - acc: 0.3436 - val_loss: 1.5607 - val_acc: 0.3669\n",
      "Epoch 3/100\n",
      "29068/29068 [==============================] - 15s 531us/step - loss: 1.5476 - acc: 0.3777 - val_loss: 1.5408 - val_acc: 0.3796\n",
      "Epoch 4/100\n",
      "29068/29068 [==============================] - 15s 532us/step - loss: 1.5115 - acc: 0.3966 - val_loss: 1.5010 - val_acc: 0.4077\n",
      "Epoch 5/100\n",
      "29068/29068 [==============================] - 15s 532us/step - loss: 1.4799 - acc: 0.4089 - val_loss: 1.4922 - val_acc: 0.4019\n",
      "Epoch 6/100\n",
      "29068/29068 [==============================] - 15s 532us/step - loss: 1.4522 - acc: 0.4208 - val_loss: 1.4743 - val_acc: 0.4152\n",
      "Epoch 7/100\n",
      "29068/29068 [==============================] - 16s 534us/step - loss: 1.4269 - acc: 0.4339 - val_loss: 1.4645 - val_acc: 0.4176\n",
      "Epoch 8/100\n",
      "29068/29068 [==============================] - 16s 536us/step - loss: 1.4036 - acc: 0.4413 - val_loss: 1.4349 - val_acc: 0.4204\n",
      "Epoch 9/100\n",
      "29068/29068 [==============================] - 16s 536us/step - loss: 1.3805 - acc: 0.4526 - val_loss: 1.4528 - val_acc: 0.4133\n",
      "Epoch 10/100\n",
      "29068/29068 [==============================] - 16s 536us/step - loss: 1.3611 - acc: 0.4642 - val_loss: 1.5081 - val_acc: 0.3950\n",
      "Epoch 11/100\n",
      "29068/29068 [==============================] - 16s 536us/step - loss: 1.3408 - acc: 0.4721 - val_loss: 1.4409 - val_acc: 0.4319\n",
      "Epoch 12/100\n",
      "29068/29068 [==============================] - 16s 536us/step - loss: 1.3157 - acc: 0.4856 - val_loss: 1.4128 - val_acc: 0.4406\n",
      "Epoch 13/100\n",
      "29068/29068 [==============================] - 16s 536us/step - loss: 1.2852 - acc: 0.4961 - val_loss: 1.4213 - val_acc: 0.4449\n",
      "Epoch 14/100\n",
      "29068/29068 [==============================] - 16s 536us/step - loss: 1.2597 - acc: 0.5101 - val_loss: 1.4418 - val_acc: 0.4393\n",
      "Epoch 15/100\n",
      "29068/29068 [==============================] - 16s 537us/step - loss: 1.2266 - acc: 0.5226 - val_loss: 1.4356 - val_acc: 0.4467\n",
      "Epoch 16/100\n",
      "29068/29068 [==============================] - 16s 536us/step - loss: 1.1967 - acc: 0.5362 - val_loss: 1.4650 - val_acc: 0.4319\n",
      "Epoch 17/100\n",
      "29068/29068 [==============================] - 16s 543us/step - loss: 1.1653 - acc: 0.5519 - val_loss: 1.4686 - val_acc: 0.4437\n",
      "Epoch 18/100\n",
      "29068/29068 [==============================] - 16s 540us/step - loss: 1.1275 - acc: 0.5654 - val_loss: 1.5001 - val_acc: 0.4387\n",
      "Epoch 19/100\n",
      "29068/29068 [==============================] - 16s 538us/step - loss: 1.1061 - acc: 0.5739 - val_loss: 1.5687 - val_acc: 0.4130 - loss: 1.1054 -\n",
      "Epoch 20/100\n",
      "29068/29068 [==============================] - 16s 539us/step - loss: 1.0677 - acc: 0.5914 - val_loss: 1.5515 - val_acc: 0.4458\n",
      "Epoch 21/100\n",
      "29068/29068 [==============================] - 16s 542us/step - loss: 1.0225 - acc: 0.6088 - val_loss: 1.5547 - val_acc: 0.4406\n",
      "Epoch 22/100\n",
      "29068/29068 [==============================] - 16s 544us/step - loss: 1.0032 - acc: 0.6152 - val_loss: 1.6305 - val_acc: 0.4384\n",
      "Epoch 23/100\n",
      "29068/29068 [==============================] - 16s 545us/step - loss: 0.9630 - acc: 0.6344 - val_loss: 1.6450 - val_acc: 0.4359\n",
      "Epoch 24/100\n",
      "29068/29068 [==============================] - 16s 538us/step - loss: 0.9178 - acc: 0.6535 - val_loss: 1.7085 - val_acc: 0.4384\n",
      "Epoch 25/100\n",
      "29068/29068 [==============================] - 16s 542us/step - loss: 0.8929 - acc: 0.6622 - val_loss: 1.7121 - val_acc: 0.4387\n",
      "Epoch 26/100\n",
      "29068/29068 [==============================] - 16s 543us/step - loss: 0.8604 - acc: 0.6768 - val_loss: 1.7509 - val_acc: 0.4387\n",
      "Epoch 27/100\n",
      "29068/29068 [==============================] - 16s 545us/step - loss: 0.8206 - acc: 0.6917 - val_loss: 1.8807 - val_acc: 0.4356\n",
      "Epoch 28/100\n",
      "29068/29068 [==============================] - 16s 538us/step - loss: 0.7710 - acc: 0.7090 - val_loss: 1.9305 - val_acc: 0.4396\n",
      "Epoch 29/100\n",
      "29068/29068 [==============================] - 16s 539us/step - loss: 0.7233 - acc: 0.7309 - val_loss: 2.0189 - val_acc: 0.4204\n",
      "Epoch 30/100\n",
      "29068/29068 [==============================] - 16s 540us/step - loss: 0.7294 - acc: 0.7278 - val_loss: 2.0511 - val_acc: 0.4316\n",
      "Epoch 31/100\n",
      "29068/29068 [==============================] - 16s 543us/step - loss: 0.6910 - acc: 0.7416 - val_loss: 2.1777 - val_acc: 0.4344\n",
      "Epoch 32/100\n",
      "29068/29068 [==============================] - 16s 543us/step - loss: 0.6435 - acc: 0.7592 - val_loss: 2.1452 - val_acc: 0.4381\n",
      "Epoch 33/100\n",
      "29068/29068 [==============================] - 15s 532us/step - loss: 0.6572 - acc: 0.7533 - val_loss: 2.2080 - val_acc: 0.4384\n",
      "Epoch 34/100\n",
      "29068/29068 [==============================] - 15s 529us/step - loss: 0.6332 - acc: 0.7632 - val_loss: 2.2932 - val_acc: 0.4310\n",
      "Epoch 35/100\n",
      "29068/29068 [==============================] - 15s 530us/step - loss: 0.6102 - acc: 0.7728 - val_loss: 2.2665 - val_acc: 0.4368\n",
      "Epoch 36/100\n",
      "29068/29068 [==============================] - 16s 547us/step - loss: 0.5814 - acc: 0.7813 - val_loss: 2.3847 - val_acc: 0.4415\n",
      "Epoch 37/100\n",
      "29068/29068 [==============================] - 16s 544us/step - loss: 0.5509 - acc: 0.7942 - val_loss: 2.4123 - val_acc: 0.4294\n",
      "Epoch 38/100\n",
      "29068/29068 [==============================] - 16s 537us/step - loss: 0.5011 - acc: 0.8167 - val_loss: 2.6065 - val_acc: 0.4319\n",
      "Epoch 39/100\n",
      "29068/29068 [==============================] - 16s 546us/step - loss: 0.4941 - acc: 0.8165 - val_loss: 2.6246 - val_acc: 0.4344\n",
      "Epoch 40/100\n",
      "29068/29068 [==============================] - 16s 547us/step - loss: 0.4937 - acc: 0.8188 - val_loss: 2.8004 - val_acc: 0.4440\n",
      "Epoch 41/100\n",
      "29068/29068 [==============================] - 16s 543us/step - loss: 0.5049 - acc: 0.8153 - val_loss: 2.6183 - val_acc: 0.4362\n",
      "Epoch 42/100\n",
      "29068/29068 [==============================] - 16s 543us/step - loss: 0.4725 - acc: 0.8279 - val_loss: 2.8574 - val_acc: 0.4300\n",
      "Epoch 43/100\n",
      "29068/29068 [==============================] - 16s 540us/step - loss: 0.4770 - acc: 0.8227 - val_loss: 2.8148 - val_acc: 0.4350\n",
      "Epoch 44/100\n",
      "29068/29068 [==============================] - 16s 543us/step - loss: 0.4118 - acc: 0.8501 - val_loss: 2.9959 - val_acc: 0.4384\n",
      "Epoch 45/100\n",
      "29068/29068 [==============================] - 16s 538us/step - loss: 0.4091 - acc: 0.8540 - val_loss: 2.9318 - val_acc: 0.4452\n",
      "Epoch 46/100\n",
      "29068/29068 [==============================] - 16s 536us/step - loss: 0.4355 - acc: 0.8426 - val_loss: 2.8670 - val_acc: 0.4282\n",
      "Epoch 47/100\n",
      "29068/29068 [==============================] - 16s 539us/step - loss: 0.3872 - acc: 0.8588 - val_loss: 3.0558 - val_acc: 0.4238\n",
      "Epoch 48/100\n",
      "29068/29068 [==============================] - 16s 538us/step - loss: 0.3929 - acc: 0.8556 - val_loss: 3.0983 - val_acc: 0.4272\n",
      "Epoch 49/100\n",
      "29068/29068 [==============================] - 16s 538us/step - loss: 0.3678 - acc: 0.8678 - val_loss: 2.9866 - val_acc: 0.4440\n",
      "Epoch 50/100\n",
      "29068/29068 [==============================] - 16s 543us/step - loss: 0.3926 - acc: 0.8548 - val_loss: 3.1677 - val_acc: 0.4316\n",
      "Epoch 51/100\n",
      "29068/29068 [==============================] - 16s 536us/step - loss: 0.3843 - acc: 0.8630 - val_loss: 2.9873 - val_acc: 0.4415\n",
      "Epoch 52/100\n",
      "29068/29068 [==============================] - 16s 544us/step - loss: 0.3474 - acc: 0.8749 - val_loss: 3.1885 - val_acc: 0.4443\n",
      "Epoch 53/100\n",
      "29068/29068 [==============================] - 16s 538us/step - loss: 0.3364 - acc: 0.8806 - val_loss: 3.2920 - val_acc: 0.4452loss: 0.3349 - acc:\n",
      "Epoch 54/100\n",
      "29068/29068 [==============================] - 16s 544us/step - loss: 0.3100 - acc: 0.8877 - val_loss: 3.3990 - val_acc: 0.4409\n",
      "Epoch 55/100\n",
      "29068/29068 [==============================] - 16s 536us/step - loss: 0.3521 - acc: 0.8727 - val_loss: 3.2205 - val_acc: 0.4412\n",
      "Epoch 56/100\n",
      "29068/29068 [==============================] - 16s 542us/step - loss: 0.3387 - acc: 0.8770 - val_loss: 3.3229 - val_acc: 0.4406\n",
      "Epoch 57/100\n",
      "29068/29068 [==============================] - 16s 538us/step - loss: 0.3196 - acc: 0.8845 - val_loss: 3.3649 - val_acc: 0.4241\n",
      "Epoch 58/100\n"
     ]
    },
    {
     "name": "stdout",
     "output_type": "stream",
     "text": [
      "29068/29068 [==============================] - 15s 530us/step - loss: 0.3373 - acc: 0.8782 - val_loss: 3.4565 - val_acc: 0.4387\n",
      "Epoch 59/100\n",
      "29068/29068 [==============================] - 15s 524us/step - loss: 0.3283 - acc: 0.8801 - val_loss: 3.5569 - val_acc: 0.4390\n",
      "Epoch 60/100\n",
      "29068/29068 [==============================] - 15s 523us/step - loss: 0.3127 - acc: 0.8874 - val_loss: 3.3665 - val_acc: 0.4353\n",
      "Epoch 61/100\n",
      "29068/29068 [==============================] - 15s 525us/step - loss: 0.3317 - acc: 0.8810 - val_loss: 3.2173 - val_acc: 0.4433\n",
      "Epoch 62/100\n",
      "29068/29068 [==============================] - 16s 534us/step - loss: 0.2790 - acc: 0.8984 - val_loss: 3.6026 - val_acc: 0.4396\n",
      "Epoch 63/100\n",
      "29068/29068 [==============================] - 15s 522us/step - loss: 0.2677 - acc: 0.9039 - val_loss: 3.5771 - val_acc: 0.4492\n",
      "Epoch 64/100\n",
      "29068/29068 [==============================] - 16s 536us/step - loss: 0.2935 - acc: 0.8961 - val_loss: 3.6949 - val_acc: 0.4415\n",
      "Epoch 65/100\n",
      "29068/29068 [==============================] - 16s 543us/step - loss: 0.2749 - acc: 0.9023 - val_loss: 3.7251 - val_acc: 0.4415\n",
      "Epoch 66/100\n",
      "29068/29068 [==============================] - 16s 536us/step - loss: 0.2522 - acc: 0.9109 - val_loss: 3.8481 - val_acc: 0.4337\n",
      "Epoch 67/100\n",
      "29068/29068 [==============================] - 16s 558us/step - loss: 0.2974 - acc: 0.8952 - val_loss: 3.6494 - val_acc: 0.4350\n",
      "Epoch 68/100\n",
      "29068/29068 [==============================] - 16s 538us/step - loss: 0.2972 - acc: 0.8945 - val_loss: 3.4985 - val_acc: 0.4344\n",
      "Epoch 69/100\n",
      "29068/29068 [==============================] - 16s 535us/step - loss: 0.2446 - acc: 0.9115 - val_loss: 3.7276 - val_acc: 0.4433\n",
      "Epoch 70/100\n",
      "29068/29068 [==============================] - 16s 539us/step - loss: 0.2731 - acc: 0.9020 - val_loss: 3.6572 - val_acc: 0.4310\n",
      "Epoch 71/100\n",
      "29068/29068 [==============================] - 16s 543us/step - loss: 0.2845 - acc: 0.8995 - val_loss: 3.7047 - val_acc: 0.4362\n",
      "Epoch 72/100\n",
      "29068/29068 [==============================] - 16s 547us/step - loss: 0.3152 - acc: 0.8915 - val_loss: 3.8149 - val_acc: 0.4322\n",
      "Epoch 73/100\n",
      "29068/29068 [==============================] - 16s 541us/step - loss: 0.2325 - acc: 0.9178 - val_loss: 3.8272 - val_acc: 0.4334\n",
      "Epoch 74/100\n",
      "29068/29068 [==============================] - 16s 536us/step - loss: 0.2198 - acc: 0.9227 - val_loss: 3.9856 - val_acc: 0.4365\n",
      "Epoch 75/100\n",
      "29068/29068 [==============================] - 16s 543us/step - loss: 0.3176 - acc: 0.8879 - val_loss: 3.9685 - val_acc: 0.4381\n",
      "Epoch 76/100\n",
      "29068/29068 [==============================] - 16s 535us/step - loss: 0.2046 - acc: 0.9279 - val_loss: 3.9337 - val_acc: 0.4427\n",
      "Epoch 77/100\n",
      "29068/29068 [==============================] - 16s 552us/step - loss: 0.2518 - acc: 0.9118 - val_loss: 3.9614 - val_acc: 0.4452\n",
      "Epoch 78/100\n",
      "29068/29068 [==============================] - 16s 546us/step - loss: 0.2177 - acc: 0.9240 - val_loss: 4.1584 - val_acc: 0.4449\n",
      "Epoch 79/100\n",
      "29068/29068 [==============================] - 16s 537us/step - loss: 0.2483 - acc: 0.9146 - val_loss: 3.8141 - val_acc: 0.4368\n",
      "Epoch 80/100\n",
      "29068/29068 [==============================] - 16s 539us/step - loss: 0.2653 - acc: 0.9071 - val_loss: 3.8367 - val_acc: 0.4399\n",
      "Epoch 81/100\n",
      "29068/29068 [==============================] - 16s 537us/step - loss: 0.2161 - acc: 0.9253 - val_loss: 3.8726 - val_acc: 0.4353\n",
      "Epoch 82/100\n",
      "29068/29068 [==============================] - 16s 543us/step - loss: 0.2425 - acc: 0.9177 - val_loss: 3.8544 - val_acc: 0.4378\n",
      "Epoch 83/100\n",
      "29068/29068 [==============================] - 16s 539us/step - loss: 0.2966 - acc: 0.8974 - val_loss: 3.9114 - val_acc: 0.4502\n",
      "Epoch 84/100\n",
      "29068/29068 [==============================] - 16s 556us/step - loss: 0.1890 - acc: 0.9358 - val_loss: 4.1378 - val_acc: 0.4409\n",
      "Epoch 85/100\n",
      "29068/29068 [==============================] - 16s 537us/step - loss: 0.1918 - acc: 0.9333 - val_loss: 4.1823 - val_acc: 0.4248\n",
      "Epoch 86/100\n",
      "29068/29068 [==============================] - 16s 540us/step - loss: 0.2281 - acc: 0.9227 - val_loss: 4.1157 - val_acc: 0.4412\n",
      "Epoch 87/100\n",
      "29068/29068 [==============================] - 16s 540us/step - loss: 0.2315 - acc: 0.9196 - val_loss: 3.9517 - val_acc: 0.4449\n",
      "Epoch 88/100\n",
      "29068/29068 [==============================] - 16s 539us/step - loss: 0.2694 - acc: 0.9073 - val_loss: 3.9960 - val_acc: 0.4387\n",
      "Epoch 89/100\n",
      "29068/29068 [==============================] - 16s 539us/step - loss: 0.1971 - acc: 0.9339 - val_loss: 3.9283 - val_acc: 0.4269\n",
      "Epoch 90/100\n",
      "29068/29068 [==============================] - 16s 541us/step - loss: 0.2541 - acc: 0.9124 - val_loss: 4.0129 - val_acc: 0.4362\n",
      "Epoch 91/100\n",
      "29068/29068 [==============================] - 16s 539us/step - loss: 0.1778 - acc: 0.9386 - val_loss: 4.1846 - val_acc: 0.4365\n",
      "Epoch 92/100\n",
      "29068/29068 [==============================] - 16s 540us/step - loss: 0.1664 - acc: 0.9438 - val_loss: 4.2111 - val_acc: 0.4356\n",
      "Epoch 93/100\n",
      "29068/29068 [==============================] - 16s 547us/step - loss: 0.2528 - acc: 0.9126 - val_loss: 4.0803 - val_acc: 0.4217\n",
      "Epoch 94/100\n",
      "29068/29068 [==============================] - 16s 547us/step - loss: 0.2268 - acc: 0.9238 - val_loss: 4.0913 - val_acc: 0.4353oss: 0.2273 - acc: 0.9\n",
      "Epoch 95/100\n",
      "29068/29068 [==============================] - 16s 535us/step - loss: 0.1836 - acc: 0.9361 - val_loss: 4.2478 - val_acc: 0.4350\n",
      "Epoch 96/100\n",
      "29068/29068 [==============================] - 16s 538us/step - loss: 0.1775 - acc: 0.9389 - val_loss: 4.4664 - val_acc: 0.4313\n",
      "Epoch 97/100\n",
      "29068/29068 [==============================] - 16s 536us/step - loss: 0.1942 - acc: 0.9338 - val_loss: 4.2100 - val_acc: 0.4297\n",
      "Epoch 98/100\n",
      "29068/29068 [==============================] - 16s 542us/step - loss: 0.2699 - acc: 0.9076 - val_loss: 3.9972 - val_acc: 0.4409\n",
      "Epoch 99/100\n",
      "29068/29068 [==============================] - 16s 537us/step - loss: 0.1842 - acc: 0.9356 - val_loss: 4.1971 - val_acc: 0.4195\n",
      "Epoch 100/100\n",
      "29068/29068 [==============================] - 16s 540us/step - loss: 0.1685 - acc: 0.9438 - val_loss: 4.5288 - val_acc: 0.4269\n"
     ]
    },
    {
     "data": {
      "text/plain": [
       "<keras.callbacks.History at 0x7f99f4070d10>"
      ]
     },
     "execution_count": 7,
     "metadata": {},
     "output_type": "execute_result"
    }
   ],
   "source": [
    "print 'Training....'\n",
    "model.fit(X_train, y_train, nb_epoch=nb_epoch, batch_size=batch_size,\n",
    "          validation_split=0.1, shuffle=True, verbose=1)"
   ]
  },
  {
   "cell_type": "code",
   "execution_count": 8,
   "metadata": {},
   "outputs": [
    {
     "name": "stdout",
     "output_type": "stream",
     "text": [
      "32298/32298 [==============================] - 5s 151us/step\n",
      "Done!\n",
      "Loss:  0.607635731933006\n",
      " Acc:  0.8901479967873682\n"
     ]
    }
   ],
   "source": [
    "# model result:\n",
    "loss_and_metrics = model.evaluate(X_train, y_train, batch_size=batch_size, verbose=1)\n",
    "print 'Done!'\n",
    "print 'Loss: ', loss_and_metrics[0]\n",
    "print ' Acc: ', loss_and_metrics[1]"
   ]
  },
  {
   "cell_type": "code",
   "execution_count": 11,
   "metadata": {},
   "outputs": [],
   "source": [
    "model.save('saved_model.h5')"
   ]
  },
  {
   "cell_type": "code",
   "execution_count": null,
   "metadata": {},
   "outputs": [],
   "source": []
  },
  {
   "cell_type": "code",
   "execution_count": 13,
   "metadata": {},
   "outputs": [],
   "source": [
    "from keras.models import load_model\n",
    "model2 = load_model('my_model.h5')"
   ]
  },
  {
   "cell_type": "code",
   "execution_count": null,
   "metadata": {},
   "outputs": [],
   "source": []
  },
  {
   "cell_type": "code",
   "execution_count": 14,
   "metadata": {},
   "outputs": [
    {
     "name": "stdout",
     "output_type": "stream",
     "text": [
      "32298/32298 [==============================] - 5s 150us/step\n",
      "Done!\n",
      "Loss:  0.607635731933006\n",
      " Acc:  0.8901479967873682\n"
     ]
    }
   ],
   "source": [
    "# model result:\n",
    "loss_and_metrics = model2.evaluate(X_train, y_train, batch_size=batch_size, verbose=1)\n",
    "print 'Done!'\n",
    "print 'Loss: ', loss_and_metrics[0]\n",
    "print ' Acc: ', loss_and_metrics[1]"
   ]
  },
  {
   "cell_type": "code",
   "execution_count": null,
   "metadata": {},
   "outputs": [],
   "source": []
  },
  {
   "cell_type": "code",
   "execution_count": null,
   "metadata": {},
   "outputs": [],
   "source": []
  },
  {
   "cell_type": "code",
   "execution_count": null,
   "metadata": {},
   "outputs": [],
   "source": [
    "import cv2\n",
    "import sys\n",
    "import json\n",
    "import time\n",
    "import numpy as np\n",
    "from keras.models import model_from_json\n",
    "\n",
    "\n",
    "emotion_labels = ['angry', 'fear', 'happy', 'sad', 'surprise', 'neutral']\n",
    "cascPath = sys.argv[1]\n",
    "\n",
    "faceCascade = cv2.CascadeClassifier(cascPath)\n",
    "\n",
    "# load json and create model arch\n",
    "json_file = open('model.json','r')\n",
    "loaded_model_json = json_file.read()\n",
    "json_file.close()\n",
    "model = model_from_json(loaded_model_json)\n",
    "\n",
    "# load weights into new model\n",
    "model.load_weights('model.h5')\n",
    "\n",
    "def predict_emotion(face_image_gray): # a single cropped face\n",
    "    resized_img = cv2.resize(face_image_gray, (48,48), interpolation = cv2.INTER_AREA)\n",
    "    # cv2.imwrite(str(index)+'.png', resized_img)\n",
    "    image = resized_img.reshape(1, 1, 48, 48)\n",
    "    list_of_list = model.predict(image, batch_size=1, verbose=1)\n",
    "    angry, fear, happy, sad, surprise, neutral = [prob for lst in list_of_list for prob in lst]\n",
    "    return [angry, fear, happy, sad, surprise, neutral]\n",
    "\n",
    "video_capture = cv2.VideoCapture(0)\n",
    "while True:\n",
    "    # Capture frame-by-frame\n",
    "    ret, frame = video_capture.read()\n",
    "    img_gray = cv2.cvtColor(frame, cv2.COLOR_BGR2GRAY,1)\n",
    "\n",
    "\n",
    "    faces = faceCascade.detectMultiScale(\n",
    "        img_gray,\n",
    "        scaleFactor=1.1,\n",
    "        minNeighbors=5,\n",
    "        minSize=(30, 30),\n",
    "        flags=cv2.cv.CV_HAAR_SCALE_IMAGE\n",
    "    )\n",
    "\n",
    "    emotions = []\n",
    "    # Draw a rectangle around the faces\n",
    "    for (x, y, w, h) in faces:\n",
    "\n",
    "        face_image_gray = img_gray[y:y+h, x:x+w]\n",
    "\n",
    "        cv2.rectangle(frame, (x, y), (x+w, y+h), (0, 255, 0), 2)\n",
    "        angry, fear, happy, sad, surprise, neutral = predict_emotion(face_image_gray)\n",
    "        with open('emotion.txt', 'a') as f:\n",
    "            f.write('{},{},{},{},{},{},{}\\n'.format(time.time(), angry, fear, happy, sad, surprise, neutral))\n",
    "\n",
    "\n",
    "    # Display the resulting frame\n",
    "    cv2.imshow('Video', frame)\n",
    "\n",
    "\n",
    "\n",
    "    if cv2.waitKey(1) & 0xFF == ord('q'):\n",
    "        break\n",
    "\n",
    "# When everything is done, release the capture\n",
    "video_capture.release()\n",
    "cv2.destroyAllWindows()"
   ]
  },
  {
   "cell_type": "code",
   "execution_count": null,
   "metadata": {},
   "outputs": [],
   "source": []
  },
  {
   "cell_type": "code",
   "execution_count": null,
   "metadata": {},
   "outputs": [],
   "source": []
  }
 ],
 "metadata": {
  "kernelspec": {
   "display_name": "Python 2",
   "language": "python",
   "name": "python2"
  },
  "language_info": {
   "codemirror_mode": {
    "name": "ipython",
    "version": 2
   },
   "file_extension": ".py",
   "mimetype": "text/x-python",
   "name": "python",
   "nbconvert_exporter": "python",
   "pygments_lexer": "ipython2",
   "version": "2.7.14"
  }
 },
 "nbformat": 4,
 "nbformat_minor": 2
}
